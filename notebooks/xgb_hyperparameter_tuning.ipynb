{
 "cells": [
  {
   "cell_type": "code",
   "execution_count": 8,
   "metadata": {
    "colab": {
     "base_uri": "https://localhost:8080/"
    },
    "id": "4cO9g4LI7KPE",
    "outputId": "5f073250-0624-4598-bbbb-a22f9ca547f7"
   },
   "outputs": [
    {
     "name": "stdout",
     "output_type": "stream",
     "text": [
      "Requirement already satisfied: optuna in c:\\users\\anupa\\.android\\trial\\lib\\site-packages (3.6.1)\n",
      "Requirement already satisfied: colorlog in c:\\users\\anupa\\.android\\trial\\lib\\site-packages (from optuna) (6.8.2)\n",
      "Requirement already satisfied: sqlalchemy>=1.3.0 in c:\\users\\anupa\\.android\\trial\\lib\\site-packages (from optuna) (1.4.39)\n",
      "Requirement already satisfied: PyYAML in c:\\users\\anupa\\.android\\trial\\lib\\site-packages (from optuna) (6.0)\n",
      "Requirement already satisfied: tqdm in c:\\users\\anupa\\.android\\trial\\lib\\site-packages (from optuna) (4.64.1)\n",
      "Requirement already satisfied: numpy in c:\\users\\anupa\\.android\\trial\\lib\\site-packages (from optuna) (1.26.4)\n",
      "Requirement already satisfied: packaging>=20.0 in c:\\users\\anupa\\.android\\trial\\lib\\site-packages (from optuna) (21.3)\n",
      "Requirement already satisfied: alembic>=1.5.0 in c:\\users\\anupa\\.android\\trial\\lib\\site-packages (from optuna) (1.13.1)\n",
      "Requirement already satisfied: typing-extensions>=4 in c:\\users\\anupa\\.android\\trial\\lib\\site-packages (from alembic>=1.5.0->optuna) (4.7.1)\n",
      "Requirement already satisfied: Mako in c:\\users\\anupa\\.android\\trial\\lib\\site-packages (from alembic>=1.5.0->optuna) (1.3.5)\n",
      "Requirement already satisfied: pyparsing!=3.0.5,>=2.0.2 in c:\\users\\anupa\\.android\\trial\\lib\\site-packages (from packaging>=20.0->optuna) (3.0.9)\n",
      "Requirement already satisfied: greenlet!=0.4.17 in c:\\users\\anupa\\.android\\trial\\lib\\site-packages (from sqlalchemy>=1.3.0->optuna) (1.1.1)\n",
      "Requirement already satisfied: colorama in c:\\users\\anupa\\.android\\trial\\lib\\site-packages (from colorlog->optuna) (0.4.5)\n",
      "Requirement already satisfied: MarkupSafe>=0.9.2 in c:\\users\\anupa\\.android\\trial\\lib\\site-packages (from Mako->alembic>=1.5.0->optuna) (2.0.1)\n"
     ]
    }
   ],
   "source": [
    "!pip install optuna"
   ]
  },
  {
   "cell_type": "code",
   "execution_count": 9,
   "metadata": {
    "id": "dYCgZBEgKoYk"
   },
   "outputs": [],
   "source": [
    "import pandas as pd\n",
    "import numpy as np\n",
    "\n",
    "import optuna\n",
    "import xgboost as xgb\n",
    "from sklearn.model_selection import train_test_split\n",
    "from sklearn.ensemble import RandomForestClassifier\n",
    "from sklearn.metrics import roc_auc_score"
   ]
  },
  {
   "cell_type": "code",
   "execution_count": 10,
   "metadata": {
    "id": "M9gB4JSoKrFP"
   },
   "outputs": [],
   "source": [
    "train = pd.read_csv('../data/train.csv', index_col=[0])\n",
    "test = pd.read_csv('../data/test.csv')"
   ]
  },
  {
   "cell_type": "code",
   "execution_count": 11,
   "metadata": {
    "colab": {
     "base_uri": "https://localhost:8080/"
    },
    "id": "CLYLcRiKYfzA",
    "outputId": "592af854-3dc2-406c-ba5b-7beea6935dcc"
   },
   "outputs": [
    {
     "data": {
      "text/plain": [
       "(11504798, 11)"
      ]
     },
     "execution_count": 11,
     "metadata": {},
     "output_type": "execute_result"
    }
   ],
   "source": [
    "train.shape"
   ]
  },
  {
   "cell_type": "code",
   "execution_count": 12,
   "metadata": {
    "colab": {
     "base_uri": "https://localhost:8080/"
    },
    "id": "OAJeMLz9UOFW",
    "outputId": "abac2377-edce-4a66-b533-3419bcc9bd4a"
   },
   "outputs": [
    {
     "data": {
      "text/plain": [
       "(7669866, 11)"
      ]
     },
     "execution_count": 12,
     "metadata": {},
     "output_type": "execute_result"
    }
   ],
   "source": [
    "test.shape"
   ]
  },
  {
   "cell_type": "code",
   "execution_count": 13,
   "metadata": {
    "id": "-bhl2Kb2Kvm3"
   },
   "outputs": [],
   "source": [
    "def label_encode_gender(val):\n",
    "    if val == 'Female':\n",
    "        return 1\n",
    "    elif val == 'Male':\n",
    "        return 0\n",
    "    return None"
   ]
  },
  {
   "cell_type": "code",
   "execution_count": 14,
   "metadata": {
    "id": "NYH9tdbGNS9R"
   },
   "outputs": [],
   "source": [
    "train['Gender'] = train['Gender'].apply(label_encode_gender)\n",
    "test['Gender'] = test['Gender'].apply(label_encode_gender)"
   ]
  },
  {
   "cell_type": "code",
   "execution_count": 15,
   "metadata": {
    "id": "oo6yA7bFNTLh"
   },
   "outputs": [],
   "source": [
    "def label_encode_vehicle_age(val):\n",
    "    if val == '< 1 Year':\n",
    "        return 0\n",
    "    elif val == '1-2 Year':\n",
    "        return 1\n",
    "    elif val == '> 2 Years':\n",
    "        return 2\n",
    "    return None"
   ]
  },
  {
   "cell_type": "code",
   "execution_count": 16,
   "metadata": {
    "id": "gduFet6sNWOh"
   },
   "outputs": [],
   "source": [
    "train['Vehicle_Age'] = train['Vehicle_Age'].apply(label_encode_vehicle_age)\n",
    "test['Vehicle_Age'] = test['Vehicle_Age'].apply(label_encode_vehicle_age)"
   ]
  },
  {
   "cell_type": "code",
   "execution_count": 17,
   "metadata": {
    "id": "RwarGct7NWiK"
   },
   "outputs": [],
   "source": [
    "def label_encode_vehicle_damage(val):\n",
    "    if val == 'Yes':\n",
    "        return 1\n",
    "    else:\n",
    "        return 0\n",
    "    return None"
   ]
  },
  {
   "cell_type": "code",
   "execution_count": 18,
   "metadata": {
    "id": "9N6AQaA8NZS7"
   },
   "outputs": [],
   "source": [
    "train['Vehicle_Damage'] = train['Vehicle_Damage'].apply(label_encode_vehicle_damage)\n",
    "test['Vehicle_Damage'] = test['Vehicle_Damage'].apply(label_encode_vehicle_damage)"
   ]
  },
  {
   "cell_type": "code",
   "execution_count": 19,
   "metadata": {
    "id": "-GxO2yR4Nasi"
   },
   "outputs": [],
   "source": [
    "y = train['Response']\n",
    "X = train.drop(columns=['Response'])"
   ]
  },
  {
   "cell_type": "code",
   "execution_count": 20,
   "metadata": {
    "id": "b2Nj-5ag7aVV"
   },
   "outputs": [],
   "source": [
    "def objective(trial):\n",
    "    param = {\n",
    "        'verbosity': 0,\n",
    "        'objective': 'binary:logistic',\n",
    "        'eval_metric': 'auc',\n",
    "        'use_label_encoder': False,\n",
    "        'booster': trial.suggest_categorical('booster', ['gbtree', 'gblinear', 'dart']),\n",
    "        'lambda': trial.suggest_loguniform('lambda', 1e-8, 1.0),\n",
    "        'alpha': trial.suggest_loguniform('alpha', 1e-8, 1.0),\n",
    "        'subsample': trial.suggest_float('subsample', 0.4, 1.0),\n",
    "        'colsample_bytree': trial.suggest_float('colsample_bytree', 0.4, 1.0),\n",
    "        'learning_rate': trial.suggest_float('learning_rate', 0.01, 0.1),\n",
    "        'n_estimators': trial.suggest_int('n_estimators', 100, 1000),\n",
    "        'max_depth': trial.suggest_int('max_depth', 3, 9),\n",
    "        'min_child_weight': trial.suggest_int('min_child_weight', 1, 10)\n",
    "    }\n",
    "\n",
    "    dtrain = xgb.DMatrix(X, label=y)\n",
    "    cv_results = xgb.cv(\n",
    "        param,\n",
    "        dtrain,\n",
    "        num_boost_round=1000,\n",
    "        nfold=5,\n",
    "        stratified=True,\n",
    "        early_stopping_rounds=10,\n",
    "        metrics='auc',\n",
    "        seed=42\n",
    "    )\n",
    "\n",
    "    mean_auc = cv_results['test-auc-mean'].max()\n",
    "    return mean_auc\n"
   ]
  },
  {
   "cell_type": "code",
   "execution_count": 21,
   "metadata": {
    "colab": {
     "base_uri": "https://localhost:8080/"
    },
    "id": "625lB670733m",
    "outputId": "8f52ffd1-6974-4339-9488-fdb5db99f360"
   },
   "outputs": [
    {
     "name": "stderr",
     "output_type": "stream",
     "text": [
      "[I 2024-07-31 19:01:24,969] A new study created in RDB with name: xgb_study\n"
     ]
    }
   ],
   "source": [
    "study_name = \"xgb_study\"\n",
    "storage_name = f\"sqlite:///optuna_study_{study_name}.db\"\n",
    "study = optuna.create_study(study_name=study_name, direction='maximize', storage=storage_name, load_if_exists=True)\n",
    "optuna.logging.set_verbosity(optuna.logging.INFO)"
   ]
  },
  {
   "cell_type": "code",
   "execution_count": null,
   "metadata": {
    "colab": {
     "base_uri": "https://localhost:8080/"
    },
    "id": "EgJoRREd76kL",
    "outputId": "b09990ef-435d-4ffe-d554-b699631afde1"
   },
   "outputs": [
    {
     "name": "stderr",
     "output_type": "stream",
     "text": [
      "C:\\Users\\anupa\\AppData\\Local\\Temp\\ipykernel_19444\\189606057.py:8: FutureWarning: suggest_loguniform has been deprecated in v3.0.0. This feature will be removed in v6.0.0. See https://github.com/optuna/optuna/releases/tag/v3.0.0. Use suggest_float(..., log=True) instead.\n",
      "  'lambda': trial.suggest_loguniform('lambda', 1e-8, 1.0),\n",
      "C:\\Users\\anupa\\AppData\\Local\\Temp\\ipykernel_19444\\189606057.py:9: FutureWarning: suggest_loguniform has been deprecated in v3.0.0. This feature will be removed in v6.0.0. See https://github.com/optuna/optuna/releases/tag/v3.0.0. Use suggest_float(..., log=True) instead.\n",
      "  'alpha': trial.suggest_loguniform('alpha', 1e-8, 1.0),\n"
     ]
    }
   ],
   "source": [
    "study.optimize(objective, n_trials=500)"
   ]
  },
  {
   "cell_type": "code",
   "execution_count": null,
   "metadata": {
    "id": "1ITdL4NrNdWK"
   },
   "outputs": [],
   "source": [
    "print('Number of finished trials:', len(study.trials))\n",
    "print('Best trial:')\n",
    "trial = study.best_trial\n",
    "\n",
    "print('  Value: {}'.format(trial.value))\n",
    "\n",
    "print('  Params: ')\n",
    "for key, value in trial.params.items():\n",
    "    print('    {}: {}'.format(key, value))"
   ]
  },
  {
   "cell_type": "code",
   "execution_count": null,
   "metadata": {
    "id": "HZP63CJvNgmA"
   },
   "outputs": [],
   "source": [
    "best_params = trial.params\n",
    "best_model = xgb.XGBClassifier(**best_params, use_label_encoder=False, eval_metric='auc')\n",
    "best_model.fit(X, y)"
   ]
  },
  {
   "cell_type": "code",
   "execution_count": null,
   "metadata": {
    "id": "ffLTUDGyNlKg"
   },
   "outputs": [],
   "source": [
    "test_predictions = best_model.predict_proba(test.iloc[:, 1:])[:, 1]\n",
    "\n",
    "submission = pd.DataFrame({'id': test['id'], 'Response': test_predictions})\n",
    "\n",
    "submission.to_csv('submission.csv', index=False)"
   ]
  },
  {
   "cell_type": "code",
   "execution_count": null,
   "metadata": {},
   "outputs": [],
   "source": []
  }
 ],
 "metadata": {
  "accelerator": "GPU",
  "colab": {
   "gpuType": "T4",
   "provenance": []
  },
  "kernelspec": {
   "display_name": "Python 3 (ipykernel)",
   "language": "python",
   "name": "python3"
  },
  "language_info": {
   "codemirror_mode": {
    "name": "ipython",
    "version": 3
   },
   "file_extension": ".py",
   "mimetype": "text/x-python",
   "name": "python",
   "nbconvert_exporter": "python",
   "pygments_lexer": "ipython3",
   "version": "3.9.13"
  }
 },
 "nbformat": 4,
 "nbformat_minor": 1
}
